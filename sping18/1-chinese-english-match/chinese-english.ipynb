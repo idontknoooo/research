{
 "cells": [
  {
   "cell_type": "code",
   "execution_count": 1,
   "metadata": {
    "collapsed": true
   },
   "outputs": [],
   "source": [
    "import hashlib\n",
    "import numpy as np\n",
    "import pandas as pd\n",
    "import csv\n",
    "import pinyin\n",
    "from copy import deepcopy"
   ]
  },
  {
   "cell_type": "code",
   "execution_count": null,
   "metadata": {
    "collapsed": true
   },
   "outputs": [],
   "source": [
    "# Assign hash key to AWE-CSV file\n",
    "# Then assign hash key to other CSV files\n",
    "# Use hash key to search in between"
   ]
  },
  {
   "cell_type": "code",
   "execution_count": 2,
   "metadata": {
    "collapsed": true
   },
   "outputs": [],
   "source": [
    "# Name List | READ\n",
    "row_list = []\n",
    "with open(\"source-csv/AWE-CSV.csv\", 'rb') as csvfile:\n",
    "    read_row = csv.reader(csvfile, delimiter=',')\n",
    "    for row in read_row:\n",
    "        row_list.append(row)"
   ]
  },
  {
   "cell_type": "code",
   "execution_count": 3,
   "metadata": {},
   "outputs": [],
   "source": [
    "# Name list | Modify\n",
    "# Add hash to English name\n",
    "deli = ' - '\n",
    "new_row_list = deepcopy(row_list[1:])  # Copy by value \n",
    "for row in new_row_list:\n",
    "    tmp = hashlib.sha1(row[1].lower() + deli + row[2].lower()).hexdigest()\n",
    "    row.insert(3, tmp)"
   ]
  },
  {
   "cell_type": "code",
   "execution_count": 4,
   "metadata": {
    "collapsed": true
   },
   "outputs": [],
   "source": [
    "# Name list | Write\n",
    "# Write Hashed English namefile to newfile\n",
    "new_title = deepcopy(row_list[0])\n",
    "new_title.insert(3, 'Hash_Key')\n",
    "with open('output-csv/HASH-AWE-CSV.csv', 'wb') as f:\n",
    "    writer = csv.writer(f)\n",
    "    writer.writerow(new_title)\n",
    "    writer.writerows(new_row_list)"
   ]
  },
  {
   "cell_type": "code",
   "execution_count": 5,
   "metadata": {},
   "outputs": [],
   "source": [
    "# Convert chinese name into pinyin with delimiter then return sha-1 hash\n",
    "def chinese_name_to_lower_pinyin_hash(c_name, deli=' - '):\n",
    "    sep     = '·'\n",
    "    sep_loc = c_name.find(sep)\n",
    "    if sep_loc == -1:\n",
    "        sep     = '•'\n",
    "        sep_loc = c_name.find(sep)\n",
    "    if sep_loc == -1:\n",
    "        l_name, f_name = c_name[:3], c_name[3:]\n",
    "    else:\n",
    "        l_name, f_name = c_name.split(sep)\n",
    "    l_name_pinyin = pinyin.get(l_name, format=\"\", delimiter=\"\")\n",
    "    f_name_pinyin = pinyin.get(f_name, format=\"strip\", delimiter=\"\")    \n",
    "    hash_key = l_name_pinyin.lower() + deli + f_name_pinyin.lower()\n",
    "    hashed_name = hashlib.sha1(hash_key).hexdigest()\n",
    "    return hashed_name\n",
    "def get_rid_of_paranthesis(c_name):\n",
    "    left_pos = c_name.find('（')\n",
    "    if left_pos != -1:\n",
    "        right_pos = c_name.find('）')\n",
    "#         print right_pos, len(c_name)\n",
    "        c_name = c_name[:left_pos] + c_name[right_pos+3:] if right_pos != len(c_name) else c_name[:left_pos]\n",
    "    return c_name"
   ]
  },
  {
   "cell_type": "code",
   "execution_count": 6,
   "metadata": {
    "collapsed": true
   },
   "outputs": [],
   "source": [
    "# For .csv files in 'source-csv' folder, add hashkey column right after their name column\n",
    "def chinese_to_hash(in_file_name, out_file_name, name_pos):\n",
    "    # file | Read\n",
    "    raw_list = []\n",
    "    with open(in_file_name, 'rb') as csvfile:\n",
    "        read_row = csv.reader(csvfile, delimiter=',')\n",
    "        for row in read_row:\n",
    "            raw_list.append(row)\n",
    "    # file | Modify\n",
    "    new_list = []\n",
    "    deli = ' - '\n",
    "    for row in raw_list[2:]:\n",
    "        tmp = row[:name_pos+1] + [chinese_name_to_lower_pinyin_hash(get_rid_of_paranthesis(row[name_pos]), deli)] + row[name_pos+1:]\n",
    "        new_list.append(tmp)\n",
    "    # file | Write\n",
    "    new_title_1 = deepcopy(raw_list[0])\n",
    "    new_title_2 = deepcopy(raw_list[1])\n",
    "    new_title_1.insert(name_pos+1, 'Hash_Key')\n",
    "    new_title_2.insert(name_pos+1, '搜索键')\n",
    "    with open(out_file_name, 'wb') as f:\n",
    "        writer = csv.writer(f)\n",
    "        writer.writerow(new_title_1)\n",
    "        writer.writerow(new_title_2)\n",
    "        writer.writerows(new_list)    "
   ]
  },
  {
   "cell_type": "code",
   "execution_count": 7,
   "metadata": {
    "collapsed": true
   },
   "outputs": [],
   "source": [
    "chinese_to_hash('source-csv/City.csv', 'output-csv/HASH-CITY.csv', 6)"
   ]
  },
  {
   "cell_type": "code",
   "execution_count": 8,
   "metadata": {},
   "outputs": [],
   "source": [
    "chinese_to_hash('source-csv/County.csv', 'output-csv/HASH-COUNTY.csv', 7)"
   ]
  },
  {
   "cell_type": "code",
   "execution_count": 9,
   "metadata": {
    "collapsed": true
   },
   "outputs": [],
   "source": [
    "chinese_to_hash('source-csv/Province-EDU.csv', 'output-csv/HASH-PROVINCE-EDU.csv', 0)"
   ]
  },
  {
   "cell_type": "code",
   "execution_count": 10,
   "metadata": {
    "collapsed": true
   },
   "outputs": [],
   "source": [
    "chinese_to_hash('source-csv/Province-WORK.csv', 'output-csv/HASH-PROVINCE-WORK.csv', 0)"
   ]
  }
 ],
 "metadata": {
  "kernelspec": {
   "display_name": "Python 3",
   "language": "python",
   "name": "python3"
  },
  "language_info": {
   "codemirror_mode": {
    "name": "ipython",
    "version": 2
   },
   "file_extension": ".py",
   "mimetype": "text/x-python",
   "name": "python",
   "nbconvert_exporter": "python",
   "pygments_lexer": "ipython2",
   "version": "2.7.12"
  }
 },
 "nbformat": 4,
 "nbformat_minor": 2
}
