{
 "cells": [
  {
   "cell_type": "code",
   "execution_count": 1,
   "metadata": {},
   "outputs": [],
   "source": [
    "import requests\n",
    "from bs4 import BeautifulSoup"
   ]
  },
  {
   "cell_type": "code",
   "execution_count": 2,
   "metadata": {},
   "outputs": [],
   "source": [
    "letter_list = ['A','B','C','D','E','F','G','H','I','J','K','L','M','N','O','P','Q','R',\n",
    "               'S','T','U','V','W','X','Y','Z']\n",
    "base_url    = 'http://www.chinavitae.com/biography_browse.php?l='"
   ]
  },
  {
   "cell_type": "code",
   "execution_count": 3,
   "metadata": {},
   "outputs": [],
   "source": [
    "def get_name(container, a_tag):\n",
    "    for a in a_tag:\n",
    "        container.append(a.contents[0])\n",
    "    return container"
   ]
  },
  {
   "cell_type": "code",
   "execution_count": 4,
   "metadata": {
    "scrolled": true
   },
   "outputs": [],
   "source": [
    "def name_list(letter_list, base_url):\n",
    "    container = []\n",
    "    for letter in letter_list:\n",
    "        url = base_url + letter\n",
    "        response      = requests.get(url)\n",
    "        html          = response.text\n",
    "        bs_obj        = BeautifulSoup(html, 'lxml')\n",
    "        colDoubleLeft = bs_obj.find(id='colDoubleLeft')\n",
    "        tr_core       = colDoubleLeft.find_all('tr')[2]\n",
    "        a_tag         = tr_core.find_all('a')\n",
    "        container     = get_name(container, a_tag)\n",
    "    return container"
   ]
  },
  {
   "cell_type": "code",
   "execution_count": 5,
   "metadata": {},
   "outputs": [],
   "source": [
    "container = name_list(letter_list, base_url)"
   ]
  },
  {
   "cell_type": "code",
   "execution_count": 6,
   "metadata": {
    "scrolled": true
   },
   "outputs": [],
   "source": [
    "unique_names   = set(container)\n",
    "unique_percent = len(unique_names) / len(container)"
   ]
  },
  {
   "cell_type": "code",
   "execution_count": 7,
   "metadata": {},
   "outputs": [
    {
     "name": "stdout",
     "output_type": "stream",
     "text": [
      "Total  names: 5015\n",
      "Unique names: 4934\n",
      "Unique pct  : 98.38%\n"
     ]
    }
   ],
   "source": [
    "print('Total  names: %s' % len(container))\n",
    "print('Unique names: %s' % len(unique_names))\n",
    "print('Unique pct  : {}%'.format(round(unique_percent*100, 2)))"
   ]
  },
  {
   "cell_type": "code",
   "execution_count": null,
   "metadata": {},
   "outputs": [],
   "source": []
  }
 ],
 "metadata": {
  "kernelspec": {
   "display_name": "Python 3",
   "language": "python",
   "name": "python3"
  },
  "language_info": {
   "codemirror_mode": {
    "name": "ipython",
    "version": 3
   },
   "file_extension": ".py",
   "mimetype": "text/x-python",
   "name": "python",
   "nbconvert_exporter": "python",
   "pygments_lexer": "ipython3",
   "version": "3.5.2"
  }
 },
 "nbformat": 4,
 "nbformat_minor": 2
}
