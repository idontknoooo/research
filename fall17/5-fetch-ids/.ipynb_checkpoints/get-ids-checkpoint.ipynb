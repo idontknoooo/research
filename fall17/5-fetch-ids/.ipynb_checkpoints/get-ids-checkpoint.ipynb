{
 "cells": [
  {
   "cell_type": "code",
   "execution_count": 1,
   "metadata": {
    "collapsed": true
   },
   "outputs": [],
   "source": [
    "from bs4 import BeautifulSoup\n",
    "import pandas as pd\n",
    "import numpy as np\n",
    "import requests\n",
    "import re\n",
    "import codecs"
   ]
  },
  {
   "cell_type": "code",
   "execution_count": 2,
   "metadata": {
    "collapsed": true
   },
   "outputs": [],
   "source": [
    "home = 'http://www.chinavitae.com'\n",
    "institution = 'http://www.chinavitae.com/institution/'\n",
    "start_html = requests.get(institution)"
   ]
  },
  {
   "cell_type": "code",
   "execution_count": 3,
   "metadata": {
    "collapsed": true
   },
   "outputs": [],
   "source": [
    "soup = BeautifulSoup(start_html.text, 'lxml')"
   ]
  },
  {
   "cell_type": "code",
   "execution_count": 18,
   "metadata": {
    "collapsed": true
   },
   "outputs": [],
   "source": [
    "\"\"\" \n",
    "    First layer: 14 categories of institution: 'http://www.chinavitae.com/institution/xxx'\n",
    "    Find <a> and 'href' attributes \n",
    "    Output: a_tag_dic = {link:Category_name}\n",
    "    A dictionary of 14 elements, each of them is a category of institution\n",
    "\"\"\"\n",
    "def find_a_tag(soup):\n",
    "    a_tag = soup.find_all('a')\n",
    "    a_tag_dic = {}\n",
    "    for a in a_tag:\n",
    "        if a.has_attr('href'):\n",
    "            attr = a['href']\n",
    "            attr_search = re.compile('/institution/.+')\n",
    "            attr_str = re.match(attr_search, attr)\n",
    "            if attr_str:\n",
    "                a_tag_dic[home+attr_str.group()] = a.text\n",
    "    return a_tag_dic"
   ]
  },
  {
   "cell_type": "code",
   "execution_count": 19,
   "metadata": {
    "collapsed": true
   },
   "outputs": [],
   "source": [
    "categories = find_a_tag(soup)"
   ]
  },
  {
   "cell_type": "code",
   "execution_count": 20,
   "metadata": {
    "collapsed": true
   },
   "outputs": [],
   "source": [
    "\"\"\"\n",
    "    Second layer: 14 categories of institution and their direct children\n",
    "    'http://www.chinavitae.com/institution/xxx' and 'http://www.chinavitae.com/institution/xxx/xxx'\n",
    "    \n",
    "    List of size 14, each element belongs to a institution category.\n",
    "    Each element is a dictionary of multiple {url: institution_name}\n",
    "\"\"\"\n",
    "layer2 = []\n",
    "for url, val in categories.iteritems():\n",
    "    url_html = requests.get(url)\n",
    "    url_soup = BeautifulSoup(url_html.text, 'lxml')\n",
    "    layer2.append(find_a_tag(url_soup))"
   ]
  },
  {
   "cell_type": "code",
   "execution_count": 21,
   "metadata": {},
   "outputs": [
    {
     "data": {
      "text/plain": [
       "{'http://www.chinavitae.com/institution/pc': u\"People's Congress at National, Provincial, and Local Levels\",\n",
       " 'http://www.chinavitae.com/institution/pc/1610.': u\"People's Congress (NPC)\"}"
      ]
     },
     "execution_count": 21,
     "metadata": {},
     "output_type": "execute_result"
    }
   ],
   "source": [
    "layer2[0]"
   ]
  },
  {
   "cell_type": "code",
   "execution_count": 8,
   "metadata": {
    "collapsed": true
   },
   "outputs": [],
   "source": [
    "\"\"\"\n",
    "    Third layer: 14 categories of institution, their direct children, and sub-type of their direct children\n",
    "    'http://www.chinavitae.com/institution/xxx'\n",
    "    'http://www.chinavitae.com/institution/xxx/xxx'\n",
    "    'http://www.chinavitae.com/institution/xxx/xxx.xxx'\n",
    "    \n",
    "    Fetch all url and name to list of list\n",
    "\"\"\"\n",
    "layer3 = []\n",
    "for dic in layer2:\n",
    "    list2 = []\n",
    "    for url, val in dic.iteritems():\n",
    "        url_html = requests.get(url)\n",
    "        url_soup = BeautifulSoup(url_html.text, 'lxml')\n",
    "        list2.append(find_a_tag(url_soup))\n",
    "    layer3.append(list2)"
   ]
  },
  {
   "cell_type": "code",
   "execution_count": 9,
   "metadata": {
    "collapsed": true,
    "scrolled": true
   },
   "outputs": [],
   "source": [
    "\"\"\"\n",
    "    Get category and id from url\n",
    "\"\"\"\n",
    "def get_category_and_id_from_url(url):\n",
    "    url_cat = ''\n",
    "    url_id = ''\n",
    "    base = 'http://www.chinavitae.com/institution/'\n",
    "    piece = url.split('/')\n",
    "\n",
    "    if piece[-1][0].isdigit():\n",
    "        url_id = piece[-1]\n",
    "        url_cat = piece[-2]\n",
    "    else:\n",
    "        url_id = url_cat = piece[-1]\n",
    "    return [url_cat, url_id]"
   ]
  },
  {
   "cell_type": "code",
   "execution_count": 22,
   "metadata": {},
   "outputs": [
    {
     "data": {
      "text/plain": [
       "[{'http://www.chinavitae.com/institution/pc': u\"People's Congress at National, Provincial, and Local Levels\",\n",
       "  'http://www.chinavitae.com/institution/pc/1610.': u\"People's Congress (NPC)\"},\n",
       " {'http://www.chinavitae.com/institution/pc': u\"People's Congress at National, Provincial, and Local Levels\",\n",
       "  'http://www.chinavitae.com/institution/pc/1610.': u\"People's Congress (NPC)\",\n",
       "  'http://www.chinavitae.com/institution/pc/1610.001': u'NPC',\n",
       "  'http://www.chinavitae.com/institution/pc/1610.101': u'Standing Committee of the NPC',\n",
       "  'http://www.chinavitae.com/institution/pc/1610.101001': u'Standing Committee of the NPC\\u2014General Office',\n",
       "  'http://www.chinavitae.com/institution/pc/1610.101001009': u'Standing Committee of the NPC\\u2014General Office\\u2014Research Center',\n",
       "  'http://www.chinavitae.com/institution/pc/1610.201': u'Ethnic Affairs Committee of the NPC',\n",
       "  'http://www.chinavitae.com/institution/pc/1610.202': u'Internal and Judicial Affairs Committee of the NPC',\n",
       "  'http://www.chinavitae.com/institution/pc/1610.203': u'Education, Science, Culture and Health Committee of the NPC',\n",
       "  'http://www.chinavitae.com/institution/pc/1610.204': u'Foreign Affairs Committee of the NPC',\n",
       "  'http://www.chinavitae.com/institution/pc/1610.205': u'Overseas Chinese Affairs Committee of the NPC',\n",
       "  'http://www.chinavitae.com/institution/pc/1610.206': u'Environmental Protection and Resources Conservation Committee of the NPC',\n",
       "  'http://www.chinavitae.com/institution/pc/1610.207': u'Financial and Economic Affairs Committee of the NPC',\n",
       "  'http://www.chinavitae.com/institution/pc/1610.208': u'Law Committee of the NPC',\n",
       "  'http://www.chinavitae.com/institution/pc/1610.211': u'Credentials Committee of the NPC',\n",
       "  'http://www.chinavitae.com/institution/pc/1610.212': u'Bills Committee',\n",
       "  'http://www.chinavitae.com/institution/pc/1610.213': u'Agriculture and Rural Affairs Committee of the NPC',\n",
       "  'http://www.chinavitae.com/institution/pc/1610.214': u'Budgetary Work Committee of the NPC',\n",
       "  'http://www.chinavitae.com/institution/pc/1610.215': u'Environmental Protection Committee of the NPC',\n",
       "  'http://www.chinavitae.com/institution/pc/1610.216': u'Legislative Affairs Committee of the NPC',\n",
       "  'http://www.chinavitae.com/institution/pc/1610.216003': u'Legislative Affairs Committee of the NPC\\u2014Economic Law Office',\n",
       "  'http://www.chinavitae.com/institution/pc/1610.216009': u'Legislative Affairs Committee of the NPC\\u2014State Law Center',\n",
       "  'http://www.chinavitae.com/institution/pc/1610.216011': u'Legislative Affairs Committee of the NPC\\u2014Criminal Law Unit',\n",
       "  'http://www.chinavitae.com/institution/pc/1610.217': u'HKSAR Basic Law Committee of the NPC',\n",
       "  'http://www.chinavitae.com/institution/pc/1610.217001': u'HKSAR Basic Law Committee of the NPC\\u2014General Office',\n",
       "  'http://www.chinavitae.com/institution/pc/1610.218': u'MSAR Basic Law Committee of the NPC',\n",
       "  'http://www.chinavitae.com/institution/pc/1610.218001': u'MSAR Basic Law Committee of the NPC\\u2014General Office',\n",
       "  'http://www.chinavitae.com/institution/pc/1610.219': u'Nationalities Committee of the NPC',\n",
       "  'http://www.chinavitae.com/institution/pc/1610.301': u\"District People's Congress\",\n",
       "  'http://www.chinavitae.com/institution/pc/1610.301001': u\"District People's Congress\\u2014Standing Committee\",\n",
       "  'http://www.chinavitae.com/institution/pc/1610.301009': u\"District People's Congress\\u2014Liaison Office\",\n",
       "  'http://www.chinavitae.com/institution/pc/1610.401': u\"Provincial People's Congress\",\n",
       "  'http://www.chinavitae.com/institution/pc/1610.401001': u\"Provincial People's Congress\\u2014Standing Committee\",\n",
       "  'http://www.chinavitae.com/institution/pc/1610.401002': u\"Provincial People's Congress\\u2014General Office\",\n",
       "  'http://www.chinavitae.com/institution/pc/1610.401002009': u\"Provincial People's Congress\\u2014General Office\\u2014Comprehensive Service Division\",\n",
       "  'http://www.chinavitae.com/institution/pc/1610.401011': u\"Provincial People's Congress\\u2014Legislative Affairs Department\",\n",
       "  'http://www.chinavitae.com/institution/pc/1610.401012': u\"Provincial People's Congress\\u2014Comprehensive Department\",\n",
       "  'http://www.chinavitae.com/institution/pc/1610.401013': u\"Provincial People's Congress\\u2014Research Office\",\n",
       "  'http://www.chinavitae.com/institution/pc/1610.401014': u\"Provincial People's Congress\\u2014Financial and Economic Committee\",\n",
       "  'http://www.chinavitae.com/institution/pc/1610.401015': u\"Provincial People's Congress\\u2014Credentials Committee\",\n",
       "  'http://www.chinavitae.com/institution/pc/1610.401016': u\"Provincial People's Congress\\u2014Financial Affairs Committee\",\n",
       "  'http://www.chinavitae.com/institution/pc/1610.401017': u\"Provincial People's Congress\\u2014Science, Education, and Cultural Working Committee\",\n",
       "  'http://www.chinavitae.com/institution/pc/1610.501': u\"City People's Congress\",\n",
       "  'http://www.chinavitae.com/institution/pc/1610.501001': u\"City People's Congress\\u2014Standing Committee\",\n",
       "  'http://www.chinavitae.com/institution/pc/1610.502': u\"Prefectural People's Congress\",\n",
       "  'http://www.chinavitae.com/institution/pc/1610.502001': u\"Prefectural People's Congress\\u2014Standing Committee\",\n",
       "  'http://www.chinavitae.com/institution/pc/1610.601': u\"County People's Congress\",\n",
       "  'http://www.chinavitae.com/institution/pc/1610.601009': u\"County People's Congress\\u2014Standing Committee\",\n",
       "  'http://www.chinavitae.com/institution/pc/1610.701': u\"Township (Town) People's Congress\",\n",
       "  'http://www.chinavitae.com/institution/pc/1610.801': u\"Municipal People's Congress\",\n",
       "  'http://www.chinavitae.com/institution/pc/1610.801001': u\"Municipal People's Congress\\u2014Standing Committee\",\n",
       "  'http://www.chinavitae.com/institution/pc/1610.901': u\"Autonomous Regional People's Congress\",\n",
       "  'http://www.chinavitae.com/institution/pc/1610.901001': u\"Autonomous Regional People's Congress\\u2014Standing Committee\",\n",
       "  'http://www.chinavitae.com/institution/pc/1610.901009': u\"Autonomous Regional People's Congress\\u2014Work Committee\",\n",
       "  'http://www.chinavitae.com/institution/pc/1610.901021': u\"Autonomous Regional People's Congress\\u2014General Office\",\n",
       "  'http://www.chinavitae.com/institution/pc/1610.901033': u\"Autonomous Regional People's Congress\\u2014Finance and Economics Office\",\n",
       "  'http://www.chinavitae.com/institution/pc/1610.902': u\"Autonomous City People's Congress\",\n",
       "  'http://www.chinavitae.com/institution/pc/1610.902001': u\"Autonomous City People's Congress\\u2014Standing Committee\",\n",
       "  'http://www.chinavitae.com/institution/pc/1610.903': u\"Autonomous League People's Congress\",\n",
       "  'http://www.chinavitae.com/institution/pc/1610.903009': u\"Autonomous League People's Congress\\u2014Working Committee\",\n",
       "  'http://www.chinavitae.com/institution/pc/1610.904': u\"Autonomous District People's Congress\",\n",
       "  'http://www.chinavitae.com/institution/pc/1610.904001': u\"Autonomous District People's Congress\\u2014Standing Committee\",\n",
       "  'http://www.chinavitae.com/institution/pc/1610.905': u\"Autonomous Prefectural People's Congress\",\n",
       "  'http://www.chinavitae.com/institution/pc/1610.905001': u\"Autonomous Prefectural People's Congress\\u2014Standing Committee\"}]"
      ]
     },
     "execution_count": 22,
     "metadata": {},
     "output_type": "execute_result"
    }
   ],
   "source": [
    "list3[0]"
   ]
  },
  {
   "cell_type": "code",
   "execution_count": 94,
   "metadata": {},
   "outputs": [
    {
     "name": "stdout",
     "output_type": "stream",
     "text": [
      "9765\n"
     ]
    }
   ],
   "source": [
    "\"\"\"\n",
    "    Write id into files\n",
    "\"\"\"\n",
    "everything = list3\n",
    "myfile = codecs.open('id-list.txt', 'w', 'utf-8')\n",
    "i = 0\n",
    "for category in list3:\n",
    "    for level in category:\n",
    "        for url, name in level.iteritems():\n",
    "            [tmp_cat, tmp_id] = get_category_and_id_from_url(url)\n",
    "            myfile.write(tmp_cat + ', ' + tmp_id + ', ' + name + '\\n')\n",
    "            i += 1\n",
    "myfile.close()\n",
    "print i"
   ]
  },
  {
   "cell_type": "code",
   "execution_count": null,
   "metadata": {
    "collapsed": true
   },
   "outputs": [],
   "source": []
  }
 ],
 "metadata": {
  "kernelspec": {
   "display_name": "Python 2",
   "language": "python",
   "name": "python2"
  },
  "language_info": {
   "codemirror_mode": {
    "name": "ipython",
    "version": 2
   },
   "file_extension": ".py",
   "mimetype": "text/x-python",
   "name": "python",
   "nbconvert_exporter": "python",
   "pygments_lexer": "ipython2",
   "version": "2.7.12"
  }
 },
 "nbformat": 4,
 "nbformat_minor": 2
}
