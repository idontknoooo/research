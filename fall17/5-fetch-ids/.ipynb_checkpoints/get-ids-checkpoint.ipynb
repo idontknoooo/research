{
 "cells": [
  {
   "cell_type": "code",
   "execution_count": 1,
   "metadata": {
    "collapsed": true
   },
   "outputs": [],
   "source": [
    "from bs4 import BeautifulSoup\n",
    "import pandas as pd\n",
    "import numpy as np\n",
    "import requests\n",
    "import re\n",
    "import codecs\n",
    "import time"
   ]
  },
  {
   "cell_type": "code",
   "execution_count": 2,
   "metadata": {
    "collapsed": true
   },
   "outputs": [],
   "source": [
    "home = 'http://www.chinavitae.com'\n",
    "institution = 'http://www.chinavitae.com/institution/'\n",
    "start_html = requests.get(institution)"
   ]
  },
  {
   "cell_type": "code",
   "execution_count": 3,
   "metadata": {
    "collapsed": true
   },
   "outputs": [],
   "source": [
    "soup = BeautifulSoup(start_html.text, 'lxml')"
   ]
  },
  {
   "cell_type": "code",
   "execution_count": 4,
   "metadata": {
    "collapsed": true
   },
   "outputs": [],
   "source": [
    "\"\"\" \n",
    "    First layer: 14 categories of institution: 'http://www.chinavitae.com/institution/xxx'\n",
    "    Find <a> and 'href' attributes \n",
    "    Output: a_tag_dic = {link:Category_name}\n",
    "    A dictionary of 14 elements, each of them is a category of institution\n",
    "\"\"\"\n",
    "def find_a_tag(soup):\n",
    "    a_tag = soup.find_all('a')\n",
    "    a_tag_dic = {}\n",
    "    for a in a_tag:\n",
    "        if a.has_attr('href'):\n",
    "            attr = a['href']\n",
    "            attr_search = re.compile('/institution/.+')\n",
    "            attr_str = re.match(attr_search, attr)\n",
    "            if attr_str:\n",
    "                a_tag_dic[home+attr_str.group()] = a.text\n",
    "    return a_tag_dic"
   ]
  },
  {
   "cell_type": "code",
   "execution_count": 5,
   "metadata": {
    "collapsed": true
   },
   "outputs": [],
   "source": [
    "layer1_categories = find_a_tag(soup)"
   ]
  },
  {
   "cell_type": "code",
   "execution_count": 6,
   "metadata": {
    "collapsed": true
   },
   "outputs": [],
   "source": [
    "\"\"\"\n",
    "    Second layer: 14 categories of institution and their direct children\n",
    "    'http://www.chinavitae.com/institution/xxx' and 'http://www.chinavitae.com/institution/xxx/xxx'\n",
    "    \n",
    "    List of size 14, each element belongs to a institution category.\n",
    "    Each element is a dictionary of multiple {url: institution_name}\n",
    "\"\"\"\n",
    "layer2_subCategories = []\n",
    "for url, val in layer1_categories.iteritems():\n",
    "    url_html = requests.get(url)\n",
    "    url_soup = BeautifulSoup(url_html.text, 'lxml')\n",
    "    layer2_subCategories.append(find_a_tag(url_soup))"
   ]
  },
  {
   "cell_type": "code",
   "execution_count": 7,
   "metadata": {},
   "outputs": [
    {
     "data": {
      "text/plain": [
       "{'http://www.chinavitae.com/institution/pc': u\"People's Congress at National, Provincial, and Local Levels\",\n",
       " 'http://www.chinavitae.com/institution/pc/1610.': u\"People's Congress (NPC)\"}"
      ]
     },
     "execution_count": 7,
     "metadata": {},
     "output_type": "execute_result"
    }
   ],
   "source": [
    "layer2_subCategories[0]"
   ]
  },
  {
   "cell_type": "code",
   "execution_count": 8,
   "metadata": {},
   "outputs": [
    {
     "name": "stdout",
     "output_type": "stream",
     "text": [
      "--- 35.3718161583 seconds ---\n"
     ]
    }
   ],
   "source": [
    "\"\"\"\n",
    "    Third layer: 14 categories of institution, their direct children, and sub-type of their direct children\n",
    "    'http://www.chinavitae.com/institution/xxx'\n",
    "    'http://www.chinavitae.com/institution/xxx/xxx'\n",
    "    'http://www.chinavitae.com/institution/xxx/xxx.xxx'\n",
    "    \n",
    "    Fetch all url and name to list of list\n",
    "\"\"\"\n",
    "start_time = time.time() # Timer\n",
    "layer3_counter = 0\n",
    "layer3_sub_subCategories = []\n",
    "for dic in layer2_subCategories:\n",
    "    list2 = []\n",
    "    for url, val in dic.iteritems():\n",
    "        url_html = requests.get(url)\n",
    "        url_soup = BeautifulSoup(url_html.text, 'lxml')\n",
    "        list2.append(find_a_tag(url_soup))\n",
    "        layer3_counter += 1\n",
    "    layer3_sub_subCategories.append(list2)\n",
    "print(\"--- %s seconds ---\" % (time.time() - start_time)) # Print running time"
   ]
  },
  {
   "cell_type": "code",
   "execution_count": 9,
   "metadata": {
    "scrolled": true
   },
   "outputs": [
    {
     "name": "stdout",
     "output_type": "stream",
     "text": [
      "107\n"
     ]
    },
    {
     "data": {
      "text/plain": [
       "{'http://www.chinavitae.com/institution/pc': u\"People's Congress at National, Provincial, and Local Levels\",\n",
       " 'http://www.chinavitae.com/institution/pc/1610.': u\"People's Congress (NPC)\"}"
      ]
     },
     "execution_count": 9,
     "metadata": {},
     "output_type": "execute_result"
    }
   ],
   "source": [
    "print layer3_counter\n",
    "layer3_sub_subCategories[0][0]"
   ]
  },
  {
   "cell_type": "code",
   "execution_count": 10,
   "metadata": {
    "collapsed": true,
    "scrolled": true
   },
   "outputs": [],
   "source": [
    "# layer4_counter = 0\n",
    "# layer4_sub_sub_subCategories = []\n",
    "# for category_layer in layer3_sub_subCategories:\n",
    "#     tmp = []\n",
    "#     for sub_category_layer in category_layer:\n",
    "#         for url, val in sub_category_layer.iteritems():\n",
    "#             url_html = requests.get(url)\n",
    "#             url_soup = BeautifulSoup(url_html.text, 'lxml')\n",
    "#             tmp.append(find_a_tag(url_soup))\n",
    "#             layer4_counter += 1\n",
    "#         layer4_sub_sub_subCategories.append(tmp)"
   ]
  },
  {
   "cell_type": "code",
   "execution_count": 11,
   "metadata": {
    "collapsed": true
   },
   "outputs": [],
   "source": [
    "# print layer4_counter\n",
    "# layer4_sub_sub_subCategories"
   ]
  },
  {
   "cell_type": "code",
   "execution_count": null,
   "metadata": {
    "collapsed": true
   },
   "outputs": [],
   "source": []
  },
  {
   "cell_type": "code",
   "execution_count": 12,
   "metadata": {
    "collapsed": true,
    "scrolled": true
   },
   "outputs": [],
   "source": [
    "\"\"\"\n",
    "    Get category and id from url\n",
    "\"\"\"\n",
    "def get_category_and_id_from_url(url):\n",
    "    url_cat = ''\n",
    "    url_id = ''\n",
    "    base = 'http://www.chinavitae.com/institution/'\n",
    "    piece = url.split('/')\n",
    "\n",
    "    if piece[-1][0].isdigit():\n",
    "        url_id = piece[-1]\n",
    "        url_cat = piece[-2]\n",
    "    else:\n",
    "        url_id = url_cat = piece[-1]\n",
    "    return [url_cat, url_id]"
   ]
  },
  {
   "cell_type": "code",
   "execution_count": 16,
   "metadata": {},
   "outputs": [
    {
     "name": "stdout",
     "output_type": "stream",
     "text": [
      "9658\n"
     ]
    }
   ],
   "source": [
    "\"\"\"\n",
    "    Write id into files\n",
    "\"\"\"\n",
    "# everything = layer3_sub_subCategories\n",
    "myfile = codecs.open('id-list.txt', 'w', 'utf-8')\n",
    "i = 0\n",
    "for category in layer3_sub_subCategories: # for each category in `layer3_sub_subCategories`\n",
    "    for level in category: # for each \n",
    "        for url, name in level.iteritems():\n",
    "            [tmp_cat, tmp_id] = get_category_and_id_from_url(url)\n",
    "            if tmp_cat != tmp_id:\n",
    "                myfile.write(tmp_cat + ', ' + tmp_id + ', ' + name.replace(u'—', '-') + '\\n')\n",
    "                i += 1\n",
    "myfile.close()\n",
    "print i"
   ]
  },
  {
   "cell_type": "code",
   "execution_count": null,
   "metadata": {
    "collapsed": true
   },
   "outputs": [],
   "source": []
  }
 ],
 "metadata": {
  "kernelspec": {
   "display_name": "Python 2",
   "language": "python",
   "name": "python2"
  },
  "language_info": {
   "codemirror_mode": {
    "name": "ipython",
    "version": 2
   },
   "file_extension": ".py",
   "mimetype": "text/x-python",
   "name": "python",
   "nbconvert_exporter": "python",
   "pygments_lexer": "ipython2",
   "version": "2.7.12"
  }
 },
 "nbformat": 4,
 "nbformat_minor": 2
}
