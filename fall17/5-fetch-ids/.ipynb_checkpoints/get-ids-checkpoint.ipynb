{
 "cells": [
  {
   "cell_type": "code",
   "execution_count": 91,
   "metadata": {},
   "outputs": [],
   "source": [
    "from bs4 import BeautifulSoup\n",
    "import pandas as pd\n",
    "import numpy as np\n",
    "import requests\n",
    "import re\n",
    "import codecs"
   ]
  },
  {
   "cell_type": "code",
   "execution_count": 46,
   "metadata": {
    "collapsed": true
   },
   "outputs": [],
   "source": [
    "home = 'http://www.chinavitae.com'\n",
    "institution = 'http://www.chinavitae.com/institution/'\n",
    "start_html = requests.get(institution)"
   ]
  },
  {
   "cell_type": "code",
   "execution_count": 47,
   "metadata": {
    "collapsed": true
   },
   "outputs": [],
   "source": [
    "soup = BeautifulSoup(start_html.text, 'lxml')"
   ]
  },
  {
   "cell_type": "code",
   "execution_count": 51,
   "metadata": {},
   "outputs": [],
   "source": [
    "\"\"\" \n",
    "    Find <a> and 'href' attributes \n",
    "    Output: a_tag_dic = {link:Category_name}\n",
    "\"\"\"\n",
    "def find_a_tag(soup):\n",
    "    a_tag = soup.find_all('a')\n",
    "    a_tag_dic = {}\n",
    "    for a in a_tag:\n",
    "        if a.has_attr('href'):\n",
    "            attr = a['href']\n",
    "            attr_search = re.compile('/institution/.+')\n",
    "            attr_str = re.match(attr_search, attr)\n",
    "            if attr_str:\n",
    "                a_tag_dic[home+attr_str.group()] = a.text\n",
    "    return a_tag_dic"
   ]
  },
  {
   "cell_type": "code",
   "execution_count": 54,
   "metadata": {},
   "outputs": [],
   "source": [
    "a_tag_dic = find_a_tag(soup)"
   ]
  },
  {
   "cell_type": "code",
   "execution_count": 97,
   "metadata": {},
   "outputs": [],
   "source": [
    "\"\"\"\n",
    "    First layer: 'http://www.chinavitae.com/institution' and their direct children\n",
    "\"\"\"\n",
    "list1 = []\n",
    "for url, val in a_tag_dic.iteritems():\n",
    "    url_html = requests.get(url)\n",
    "    url_soup = BeautifulSoup(url_html.text, 'lxml')\n",
    "    list1.append(find_a_tag(url_soup))"
   ]
  },
  {
   "cell_type": "code",
   "execution_count": 96,
   "metadata": {},
   "outputs": [
    {
     "name": "stdout",
     "output_type": "stream",
     "text": [
      "{'http://www.chinavitae.com/institution/pc': u\"People's Congress at National, Provincial, and Local Levels\", 'http://www.chinavitae.com/institution/pc/1610.': u\"People's Congress (NPC)\"}\n"
     ]
    }
   ],
   "source": [
    "print list1[0]"
   ]
  },
  {
   "cell_type": "code",
   "execution_count": 71,
   "metadata": {},
   "outputs": [],
   "source": [
    "\"\"\"\n",
    "    Fetch all url and name to list of list\n",
    "\"\"\"\n",
    "list3 = []\n",
    "for dic in list1:\n",
    "    list2 = []\n",
    "    for url, val in dic.iteritems():\n",
    "        url_html = requests.get(url)\n",
    "        url_soup = BeautifulSoup(url_html.text, 'lxml')\n",
    "        list2.append(find_a_tag(url_soup))\n",
    "    list3.append(list2)"
   ]
  },
  {
   "cell_type": "code",
   "execution_count": 81,
   "metadata": {
    "scrolled": true
   },
   "outputs": [],
   "source": [
    "\"\"\"\n",
    "    Get category and id from url\n",
    "\"\"\"\n",
    "def get_category_and_id_from_url(url):\n",
    "    url_cat = ''\n",
    "    url_id = ''\n",
    "    base = 'http://www.chinavitae.com/institution/'\n",
    "    piece = url.split('/')\n",
    "\n",
    "    if piece[-1][0].isdigit():\n",
    "        url_id = piece[-1]\n",
    "        url_cat = piece[-2]\n",
    "    else:\n",
    "        url_id = url_cat = piece[-1]\n",
    "    return [url_cat, url_id]"
   ]
  },
  {
   "cell_type": "code",
   "execution_count": 94,
   "metadata": {},
   "outputs": [
    {
     "name": "stdout",
     "output_type": "stream",
     "text": [
      "9765\n"
     ]
    }
   ],
   "source": [
    "\"\"\"\n",
    "    Write id into files\n",
    "\"\"\"\n",
    "everything = list3\n",
    "myfile = codecs.open('id-list.txt', 'w', 'utf-8')\n",
    "i = 0\n",
    "for category in list3:\n",
    "    for level in category:\n",
    "        for url, name in level.iteritems():\n",
    "            [tmp_cat, tmp_id] = get_category_and_id_from_url(url)\n",
    "            myfile.write(tmp_cat + ', ' + tmp_id + ', ' + name + '\\n')\n",
    "            i += 1\n",
    "myfile.close()\n",
    "print i"
   ]
  },
  {
   "cell_type": "code",
   "execution_count": null,
   "metadata": {},
   "outputs": [],
   "source": []
  }
 ],
 "metadata": {
  "kernelspec": {
   "display_name": "Python 2",
   "language": "python",
   "name": "python2"
  },
  "language_info": {
   "codemirror_mode": {
    "name": "ipython",
    "version": 2
   },
   "file_extension": ".py",
   "mimetype": "text/x-python",
   "name": "python",
   "nbconvert_exporter": "python",
   "pygments_lexer": "ipython2",
   "version": "2.7.12"
  }
 },
 "nbformat": 4,
 "nbformat_minor": 2
}
