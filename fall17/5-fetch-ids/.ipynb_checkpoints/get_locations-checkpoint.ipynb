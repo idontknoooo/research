{
 "cells": [
  {
   "cell_type": "code",
   "execution_count": 1,
   "metadata": {
    "collapsed": true
   },
   "outputs": [],
   "source": [
    "from bs4 import BeautifulSoup\n",
    "import pandas as pd\n",
    "import numpy as np\n",
    "import requests\n",
    "import re\n",
    "import codecs\n",
    "import time"
   ]
  },
  {
   "cell_type": "code",
   "execution_count": 2,
   "metadata": {
    "collapsed": true
   },
   "outputs": [],
   "source": [
    "home = 'http://www.chinavitae.com/'\n",
    "location = 'http://www.chinavitae.com/location/'\n",
    "loc_start_html = requests.get(location)\n",
    "loc_soup = BeautifulSoup(loc_start_html.text, 'lxml')"
   ]
  },
  {
   "cell_type": "code",
   "execution_count": 3,
   "metadata": {
    "collapsed": true
   },
   "outputs": [],
   "source": [
    "\"\"\" \n",
    "    First layer: 201 different locations. 'http://www.chinavitae.com/location/xxx'\n",
    "    Find <a> and 'href' attributes \n",
    "    Output: a_tag_dic = {link:location}\n",
    "    A dictionary of 201 elements, each of them is a location\n",
    "\"\"\"\n",
    "def find_a_tag(soup, url):\n",
    "    a_tag = soup.find_all('a')\n",
    "    a_tag_dic = {}\n",
    "    for a in a_tag:\n",
    "        if a.has_attr('href'):\n",
    "            attr = a['href']\n",
    "            attr_search = re.compile('/location/.+')\n",
    "            attr_str = re.match(attr_search, attr)\n",
    "            if attr_str and str(attr_str.group()).find('&show') == -1:\n",
    "                a_tag_dic[home+attr_str.group()[1:]] = a.text\n",
    "    return a_tag_dic"
   ]
  },
  {
   "cell_type": "code",
   "execution_count": 4,
   "metadata": {
    "collapsed": true
   },
   "outputs": [],
   "source": [
    "\"\"\" Function call. Get location layer 1 \"\"\"\n",
    "loc_layer1_locations = find_a_tag(loc_soup, loc_start_html.url)"
   ]
  },
  {
   "cell_type": "code",
   "execution_count": 5,
   "metadata": {
    "scrolled": true
   },
   "outputs": [],
   "source": [
    "# print len(loc_layer1_locations)\n",
    "# print loc_layer1_locations"
   ]
  },
  {
   "cell_type": "code",
   "execution_count": 6,
   "metadata": {
    "scrolled": true
   },
   "outputs": [
    {
     "name": "stdout",
     "output_type": "stream",
     "text": [
      "--- 101.794301987 seconds ---\n"
     ]
    }
   ],
   "source": [
    "\"\"\"\n",
    "    Second layer: 201 locations and their sub-locations\n",
    "    'http://www.chinavitae.com/institution/xxx' and 'http://www.chinavitae.com/location/xxx.xxx'\n",
    "    \n",
    "    List of size 201, each element belongs to a location.\n",
    "    Each element is a dictionary of multiple {url: location_name}\n",
    "\"\"\"\n",
    "start_time = time.time() # Timer\n",
    "loc_layer1_counter = 0 # Counter\n",
    "loc_layer2_subLocations = []\n",
    "for url, val in loc_layer1_locations.iteritems():\n",
    "    url_html = requests.get(url)\n",
    "    url_soup = BeautifulSoup(url_html.text, 'lxml')\n",
    "    loc_layer2_subLocations.append(find_a_tag(url_soup, url_html.url))\n",
    "    loc_layer1_counter += 1 # Counter\n",
    "#     break\n",
    "print(\"--- %s seconds ---\" % (time.time() - start_time)) # Print running time"
   ]
  },
  {
   "cell_type": "code",
   "execution_count": 7,
   "metadata": {},
   "outputs": [],
   "source": [
    "# print len(loc_layer2_subLocations)\n",
    "# print loc_layer2_subLocations[1]"
   ]
  },
  {
   "cell_type": "code",
   "execution_count": 8,
   "metadata": {
    "collapsed": true
   },
   "outputs": [],
   "source": [
    "\"\"\"\n",
    "    Convert [{}] to {}\n",
    "    Store all [{url:name}] in to dictionary \n",
    "\"\"\"\n",
    "loc_final_counter = 0\n",
    "loc_final = {} # Final location dictionary\n",
    "for loc in loc_layer2_subLocations:\n",
    "    for key, val in loc.iteritems():\n",
    "        loc_final_counter += 1\n",
    "        loc_final[key] = val        "
   ]
  },
  {
   "cell_type": "code",
   "execution_count": 9,
   "metadata": {},
   "outputs": [],
   "source": [
    "# print loc_final_counter\n",
    "# print loc_final"
   ]
  },
  {
   "cell_type": "code",
   "execution_count": 10,
   "metadata": {
    "collapsed": true
   },
   "outputs": [],
   "source": [
    "\"\"\"\n",
    "    Get category and id from url\n",
    "    url_cat: category\n",
    "    url_id: id\n",
    "\"\"\"\n",
    "def get_category_and_id_from_url(url):\n",
    "    url_cat = ''\n",
    "    url_id = ''\n",
    "#     base = 'http://www.chinavitae.com/location/'\n",
    "    piece = url.split('/')\n",
    "\n",
    "    if piece[-1][0].isdigit():\n",
    "        url_id = piece[-1]\n",
    "        url_cat = piece[-2]\n",
    "    else:\n",
    "        url_id = url_cat = piece[-1]\n",
    "    return [url_cat, url_id]"
   ]
  },
  {
   "cell_type": "code",
   "execution_count": 11,
   "metadata": {},
   "outputs": [
    {
     "name": "stdout",
     "output_type": "stream",
     "text": [
      "2585\n"
     ]
    }
   ],
   "source": [
    "\"\"\"\n",
    "    Write location into files\n",
    "\"\"\"\n",
    "# everything = layer3_sub_subCategories\n",
    "myfile = codecs.open('loc-list.txt', 'w', 'utf-8')\n",
    "i = 0\n",
    "for url, name in loc_final.iteritems():\n",
    "    [tmp_cat, tmp_id] = get_category_and_id_from_url(url)\n",
    "    myfile.write(tmp_cat + ', ' + tmp_id + ', ' + name + '\\n')\n",
    "    i += 1\n",
    "myfile.close()\n",
    "print i"
   ]
  },
  {
   "cell_type": "code",
   "execution_count": null,
   "metadata": {
    "collapsed": true
   },
   "outputs": [],
   "source": []
  }
 ],
 "metadata": {
  "kernelspec": {
   "display_name": "Python 2",
   "language": "python",
   "name": "python2"
  },
  "language_info": {
   "codemirror_mode": {
    "name": "ipython",
    "version": 2
   },
   "file_extension": ".py",
   "mimetype": "text/x-python",
   "name": "python",
   "nbconvert_exporter": "python",
   "pygments_lexer": "ipython2",
   "version": "2.7.12"
  }
 },
 "nbformat": 4,
 "nbformat_minor": 2
}
